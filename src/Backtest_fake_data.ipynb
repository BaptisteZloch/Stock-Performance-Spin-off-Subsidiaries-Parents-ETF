{
 "cells": [
  {
   "cell_type": "code",
   "execution_count": 1,
   "metadata": {},
   "outputs": [],
   "source": [
    "import pandas as pd\n",
    "import numpy as np\n",
    "import numpy.typing as npt\n",
    "from datetime import datetime\n",
    "\n",
    "import yfinance as yf\n",
    "from utility.types import AllocationMethodsEnum\n",
    "\n",
    "from data.benchmark import Benchmark\n",
    "from data.universe import Universe\n",
    "from backtest.backtest import Backtester"
   ]
  },
  {
   "cell_type": "code",
   "execution_count": 2,
   "metadata": {},
   "outputs": [
    {
     "data": {
      "text/plain": [
       "date\n",
       "2000-01-03     498.122\n",
       "2000-01-04     479.035\n",
       "2000-01-05     479.457\n",
       "2000-01-06     475.892\n",
       "2000-01-07     489.011\n",
       "                ...   \n",
       "2024-04-15    1975.708\n",
       "2024-04-16    1967.475\n",
       "2024-04-17    1947.947\n",
       "2024-04-18    1942.958\n",
       "2024-04-19    1947.656\n",
       "Freq: B, Name: RTY Index, Length: 6340, dtype: float64"
      ]
     },
     "execution_count": 2,
     "metadata": {},
     "output_type": "execute_result"
    }
   ],
   "source": [
    "bench = Benchmark()\n",
    "bench.get_benchmark_history()"
   ]
  },
  {
   "cell_type": "code",
   "execution_count": null,
   "metadata": {},
   "outputs": [],
   "source": [
    "univ = Universe()\n",
    "df = univ.get_universe_history()"
   ]
  },
  {
   "cell_type": "code",
   "execution_count": null,
   "metadata": {},
   "outputs": [],
   "source": [
    "from typing import Dict, List  # MMM->APPL->AMZN | MSFT->AFL | BSX -> IP\n",
    "\n",
    "from utility.types import SpinOff\n",
    "\n",
    "\n",
    "spin_off_announcement: Dict[datetime, List[SpinOff]] = {\n",
    "    datetime(2015, 12, 10): [\n",
    "        SpinOff(\n",
    "            parent_company=\"AMZN\",\n",
    "            subsidiary_company=\"MMM\",\n",
    "            spin_off_ex_date=datetime(2015, 12, 15),\n",
    "        )\n",
    "    ],\n",
    "    datetime(2005, 10, 14): [\n",
    "        SpinOff(\n",
    "            parent_company=\"MSFT\",\n",
    "            subsidiary_company=\"AFL\",\n",
    "            spin_off_ex_date=datetime(2005, 10, 17),\n",
    "        ),\n",
    "        SpinOff(\n",
    "            parent_company=\"AAPL\",\n",
    "            subsidiary_company=\"AMZN\",\n",
    "            spin_off_ex_date=datetime(2005, 10, 18),\n",
    "        ),\n",
    "    ],\n",
    "    datetime(2008, 2, 15): [\n",
    "        SpinOff(\n",
    "            parent_company=\"BSX\",\n",
    "            subsidiary_company=\"IP\",\n",
    "            spin_off_ex_date=datetime(2008, 2, 18),\n",
    "        ),\n",
    "        SpinOff(\n",
    "            parent_company=\"BSX\",\n",
    "            subsidiary_company=\"MC.PA\",\n",
    "            spin_off_ex_date=datetime(2008, 2, 18),\n",
    "        ),\n",
    "    ],\n",
    "}\n",
    "\n",
    "spin_off_announcement"
   ]
  },
  {
   "cell_type": "markdown",
   "metadata": {},
   "source": [
    "# Analyze parent behavior around spin off\n"
   ]
  },
  {
   "cell_type": "code",
   "execution_count": null,
   "metadata": {},
   "outputs": [],
   "source": [
    "from backtest.analysis import get_spin_off_parent_behavior\n",
    "\n",
    "DAYS_BEFORE = 50\n",
    "DAYS_AFTER = 50\n",
    "\n",
    "behaviours = []\n",
    "\n",
    "for spinoffs in spin_off_announcement.values():\n",
    "    for spinoff in spinoffs:\n",
    "        behaviours.append(\n",
    "            get_spin_off_parent_behavior(\n",
    "                univ.get_universe_returns(), spinoff, DAYS_BEFORE, DAYS_AFTER\n",
    "            )\n",
    "        )\n",
    "\n",
    "behaviours = np.array(behaviours)"
   ]
  },
  {
   "cell_type": "code",
   "execution_count": null,
   "metadata": {},
   "outputs": [],
   "source": [
    "from matplotlib import pyplot as plt\n",
    "_, ax = plt.subplots(1,1, figsize=(25, 10))\n",
    "\n",
    "ax.plot(np.linspace(-DAYS_BEFORE,DAYS_AFTER,num=DAYS_BEFORE+DAYS_AFTER),np.mean(behaviours, axis=0),label=\"Average\")\n",
    "ax.axvline(x=0,color=\"black\",label=\"spin off event\",linestyle='--')\n",
    "ax.grid()\n",
    "ax.set_xlabel(\"Datetime\", fontsize=15)\n",
    "ax.set_ylabel(\"Returns\", fontsize=15)\n",
    "ax.set_title(\n",
    "f\"Parent price behavior during spin off period\", fontsize=20\n",
    ")\n",
    "ax.legend(loc=\"lower right\", fontsize=15)"
   ]
  },
  {
   "cell_type": "markdown",
   "metadata": {},
   "source": [
    "# Backtest spin off\n"
   ]
  },
  {
   "cell_type": "code",
   "execution_count": null,
   "metadata": {},
   "outputs": [],
   "source": [
    "bk_test = Backtester(\n",
    "    universe_returns=univ.get_universe_returns(),\n",
    "    benchmark_returns=bench.get_benchmark_returns('SPX Index'),\n",
    ")\n",
    "\n",
    "ptf_and_bench, ptf_weights_df, ptf_metrics_df = bk_test.run_backtest(\n",
    "    AllocationMethodsEnum.EQUALLY_WEIGHTED,\n",
    "    spin_off_events_announcement=spin_off_announcement,\n",
    "    backtest_type=\"parents\",\n",
    "    holding_period_in_months=15,\n",
    "    transaction_cost=0.001,  # 10 BP\n",
    ")"
   ]
  },
  {
   "cell_type": "code",
   "execution_count": null,
   "metadata": {},
   "outputs": [],
   "source": []
  }
 ],
 "metadata": {
  "kernelspec": {
   "display_name": ".venv",
   "language": "python",
   "name": "python3"
  },
  "language_info": {
   "codemirror_mode": {
    "name": "ipython",
    "version": 3
   },
   "file_extension": ".py",
   "mimetype": "text/x-python",
   "name": "python",
   "nbconvert_exporter": "python",
   "pygments_lexer": "ipython3",
   "version": "3.11.6"
  }
 },
 "nbformat": 4,
 "nbformat_minor": 2
}
